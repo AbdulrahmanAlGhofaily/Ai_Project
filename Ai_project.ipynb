{
  "nbformat": 4,
  "nbformat_minor": 5,
  "metadata": {
    "kernelspec": {
      "display_name": "Python 3",
      "language": "python",
      "name": "python3"
    },
    "language_info": {
      "codemirror_mode": {
        "name": "ipython",
        "version": 3
      },
      "file_extension": ".py",
      "mimetype": "text/x-python",
      "name": "python",
      "nbconvert_exporter": "python",
      "pygments_lexer": "ipython3",
      "version": "3.10.0"
    },
    "colab": {
      "name": "Ai_project.ipynb",
      "provenance": [],
      "collapsed_sections": [],
      "include_colab_link": true
    }
  },
  "cells": [
    {
      "cell_type": "markdown",
      "metadata": {
        "id": "view-in-github",
        "colab_type": "text"
      },
      "source": [
        "<a href=\"https://colab.research.google.com/github/AbdulrahmanAlGhofaily/Ai_Project/blob/main/Ai_project.ipynb\" target=\"_parent\"><img src=\"https://colab.research.google.com/assets/colab-badge.svg\" alt=\"Open In Colab\"/></a>"
      ]
    },
    {
      "cell_type": "markdown",
      "metadata": {
        "id": "400d8904"
      },
      "source": [
        "# A* Algorithem"
      ],
      "id": "400d8904"
    },
    {
      "cell_type": "markdown",
      "metadata": {
        "id": "145aee3b"
      },
      "source": [
        "## File Content:\n",
        "1. Introduction.\n",
        "2. An example problem.\n",
        "3. The algorithm:\n",
        "    - Explanation\n",
        "    - Implementation\n",
        "    - Applying the algorithm on the problem\n",
        "    - Testing the algorithm on several samples and reporting the results\n",
        "4. References and resources"
      ],
      "id": "145aee3b"
    },
    {
      "cell_type": "markdown",
      "metadata": {
        "id": "87de8673"
      },
      "source": [
        "## Introduction:\n",
        "A* is a graph traversal and path search algorithm, which is often used in many fields of computer science due to its completeness, optimality, and optimal efficiency. In this project we will solve a real world problem by using A* algorithem."
      ],
      "id": "87de8673"
    },
    {
      "cell_type": "markdown",
      "metadata": {
        "id": "TKfC5PJ_kySS"
      },
      "source": [
        "<h2 dir=rtl>المقدمة</h2>\n",
        "<p dir=rtl>A * عبارة عن خوارزمية بحث عن مسار ، والتي تُستخدم غالبًا في العديد من مجالات علوم الكمبيوتر نظرًا لكمالها وكفاءتها. في هذا المشروع سوف نحل مشكلة واقعية باستخدام A* </p>"
      ],
      "id": "TKfC5PJ_kySS"
    },
    {
      "cell_type": "markdown",
      "metadata": {
        "id": "006cd1b9"
      },
      "source": [
        "#### Objectivs and Main Concepts:\n",
        "1. Find real life problem and describe it.\n",
        "\n",
        "2. Explain it's formulation:\n",
        "    - initial state: start state or we can say where the agent will start from.\n",
        "    - Actions: what agent can do in this state. \n",
        "    - State space: The set of all possible states that are possible in your given world\n",
        "    - Goal test: A function that takes a state as input, and determines whether it is a goal state\n",
        "<br><br>\n",
        "3. Expalin the A* in pseudocode.\n",
        "4. Explain the A* in high level language code.\n",
        "5. Implement the algorithem using python.\n",
        "6. Apply the Algorithem on real life problem.\n",
        "7. Test the Algorithem on several samples and reporting the results."
      ],
      "id": "006cd1b9"
    },
    {
      "cell_type": "markdown",
      "metadata": {
        "id": "oPDzvHr1lSj8"
      },
      "source": [
        "<h3 dir=rtl>الأهداف والمفاهيم الرئيسية</h3>\n",
        "\n",
        "<p dir=rtl>1- البحث عن مشكلة واقعيه وشرحها</p>\n",
        "<p dir=rtl> 2- شرح صياغتها: </p>\n",
        "<p dir=rtl> - الحالة الأولية: حالة البدء أو يمكننا القول من أين سيبدأ الوكيل. </p>\n",
        "<p dir=rtl> - الإجراءات: ما يمكن أن يفعله الوكيل في هذه الحالة. </p>\n",
        "<p dir=rtl> - فضاء الحالة: مجموعة كل الحالات الممكنة في عالمك المحدد </p>\n",
        "<p dir=rtl> - اختبار الهدف: وظيفة تأخذ حالة كمدخلات ، وتحدد ما إذا كانت حالة هدف </p>\n",
        "<p dir=rtl> 3- شرح الخوارزميه عن طريق السودوكود </p>\n",
        "<p dir=rtl> 4- شرح الخوارزمية بلغة البايثون </p>\n",
        "<p dir=rtl> 5- تنفيذ الخوارزمية بلغة البايثون </p>\n",
        "<p dir=rtl> 6- تطبيق الخوارزمية على مشكلة حقيقية </p>\n",
        "<p dir=rtl> 7- اختبار الخوارزمية على عدد من الدوال الارشادية </p>"
      ],
      "id": "oPDzvHr1lSj8"
    },
    {
      "cell_type": "markdown",
      "metadata": {
        "id": "4c3d2f8f"
      },
      "source": [
        "## An example problem:\n",
        "The problem is basically a game that has two players knight and enemy. The knight who wants to find the enemy and kill him with least number of steps.\n",
        "we have a map were the players are. We will build a map in 2D shape. The enemy is stationary. There are some obstacles in the map that might block the nearest path to the enemy. so we have to use search algorithem to find the best path to the enemy, because the Knight is urgent to find and kill the enemy as soon as possible."
      ],
      "id": "4c3d2f8f"
    },
    {
      "cell_type": "markdown",
      "metadata": {
        "id": "XCUij2Ael-y4"
      },
      "source": [
        "<h2 dir=rtl> مثال لمشكلة واقعية </h2>\n",
        "<p dir=rtl> تكمن المشكلة أساسًا في لعبة بها لاعبان فارس وعدو. الفارس هو الذي يريد أن يجد العدو ويقتله بأقل عدد من الخطوات </p>\n",
        "<p dir=rtl> سنقوم ببناء خريطة في شكل ثنائي الأبعاد. العدو ثابت. توجد بعض العوائق في الخريطة التي قد تسد أقرب مسار للعدو </p>\n",
        "<p dir=rtl> لذلك علينا استخدام خوارزمية البحث للعثور على أفضل طريق للعدو ، لأن الفارس يريد العثور على العدو وقتله في أسرع وقت ممكن </p>"
      ],
      "id": "XCUij2Ael-y4"
    },
    {
      "cell_type": "markdown",
      "metadata": {
        "id": "a9830e85"
      },
      "source": [
        "#### Formulation:\n",
        "1. Initial state: at (0,0) position in the map (2D map we use)\n",
        "2. Actions(movment) :\n",
        "    - UP\n",
        "    - RIGHT\n",
        "    - DOWN\n",
        "    - LEFT\n",
        "    - TOP LEFT\n",
        "    - TOP RIGHT\n",
        "    - BOTTOM LEFT\n",
        "    - BOTTOM RIGHT<br><br>\n",
        "    <img src=\"https://drive.google.com/uc?id=1lCJmzrvBB7KFjUWMlWHOfdUnEibCpJSG\" width=400 height=400 /><br><br>\n",
        "    \n",
        "    NOTE: The Knight can not move if the next state is obstacle or a position outside the map so the Actions will decrease.<br><br>\n",
        "3. State space:\n",
        "    - A position (x,y).\n",
        "    - A position that can be visted (White space).\n",
        "    - A position that can not be visted (Obstacle).\n",
        "    - The enemy postion. (Goal)\n",
        "4. Goal test:\n",
        "    - Enemy is dead (Knight position == Enemy position)."
      ],
      "id": "a9830e85"
    },
    {
      "cell_type": "markdown",
      "metadata": {
        "id": "BRfCeix6naj2"
      },
      "source": [
        "<h2 dir=rtl> الصياغة </h2>\n",
        "<p dir=rtl> 1- الحالة المبدأيه: هي عند النقطه 0.0 </p>\n",
        "<p dir=rtl> 2- التحركات الممكنه </p>\n",
        "<ul dir=rtl>\n",
        "  <li>اعلى</li>\n",
        "  <li>يمين</li>\n",
        "  <li>اسفل</li>\n",
        "  <li>يسار</li>\n",
        "  <li>اعلى\\يسار</li>\n",
        "  <li>اعلى\\يمين</li>\n",
        "  <li>اسفل\\يسار</li>\n",
        "  <li>اسفل\\يمين</li>\n",
        "</ul>\n",
        "\n",
        "<p dir=rtl> 3- فضاء الحالة </p>\n",
        "<ul dir=rtl>\n",
        "  <li>الاحداثيات (س,ص)</li>\n",
        "  <li>المربعات التي سيتم زيارتها تسمى المساحة البيضاء</li>\n",
        "  <li>المربعات التي لا يمكن زيارتها تسمى حواجز</li>\n",
        "  <li>موقع العدو هو الهدف</li>\n",
        "</ul>"
      ],
      "id": "BRfCeix6naj2"
    },
    {
      "cell_type": "markdown",
      "metadata": {
        "id": "MeWxzDy_Y37Y"
      },
      "source": [
        "#### Heuristics:\n",
        "we will use two Heuristics in this problem and we will compare between them and find the best option.\n",
        "- Euclidian Distance:<br><br>\n",
        "  Formula: pow(x2-x1, 2) + pow(y2-y1, 2)<br><br>\n",
        "<img src=\"https://drive.google.com/uc?id=1V9dHqPdryuu3-1CJX-fn-klnnmDumSQ0\" width=400 height=400 /><br><br>\n",
        "\n",
        "\n",
        "- Manhattan Distance:<br><br>\n",
        "  Formula: abs(x2-x1,) + abs(y2-y1)<br><br>\n",
        "<img src=\"https://drive.google.com/uc?id=175iVId_T2_NQhaltWVwr5GmP6xp6lYBp\" width=400 height=400/><br><br>"
      ],
      "id": "MeWxzDy_Y37Y"
    },
    {
      "cell_type": "markdown",
      "metadata": {
        "id": "CXM96HKJoRny"
      },
      "source": [
        "<h2 dir=rtl> الدوال الارشادية </h2>\n",
        "<p dir=rtl> سيكون هناك نوعان من الدوال الارشاديه في هذا المشروع </p>\n",
        "<ul dir=rtl>\n",
        "  <li>الدالة الاقليدية</li>\n",
        "  <li>دالة منهاتن</li>\n",
        "</ul>"
      ],
      "id": "CXM96HKJoRny"
    },
    {
      "cell_type": "markdown",
      "metadata": {
        "id": "d74e15a0"
      },
      "source": [
        "## The algorithem:"
      ],
      "id": "d74e15a0"
    },
    {
      "cell_type": "markdown",
      "metadata": {
        "id": "JYtS2zZMob1P"
      },
      "source": [
        "<h2 dir=rtl> الخوارزمية </h2>"
      ],
      "id": "JYtS2zZMob1P"
    },
    {
      "cell_type": "markdown",
      "metadata": {
        "id": "17bdf103"
      },
      "source": [
        "#### Explanation:\n",
        "The A* algorithem Known as an informed search algorithm or a best-first search, it consists of weighted graphs: from a specific starting node, it seeks to reach a given goal node by finding the path with the smallest cost (shortest distance, quickest time, etc.).<br>\n",
        "During each iteration, A* must choose one of its paths for extension. It chooses which path to extend based on the cost and the estimated cost of extending it all the way to the goal."
      ],
      "id": "17bdf103"
    },
    {
      "cell_type": "markdown",
      "metadata": {
        "id": "sSCrpQWTon4M"
      },
      "source": [
        "<h3 dir=rtl> الشرح </h3>\n",
        "<p dir=rtl> خوارزمية ال أ ستار المعروفة باسم خوارزمية البحث المستنيرة أو البحث الأفضل أولاً ، تتكون من الرسوم البيانية الموزونة: من عقدة بداية محددة ، تسعى للوصول إلى عقدة هدف معينة من خلال إيجاد المسار بأقل تكلفة (أقصر مسافة ، أسرع الوقت ، وما إلى ذلك).\n",
        "أثناء كل تكرار ، يجب أن تختار A * أحد مساراتها للتمديد. يختار المسار الذي سيتم تمديده بناءً على التكلفة والتكلفة المقدرة لتمديده حتى الوصول إلى الهدف. </p>"
      ],
      "id": "sSCrpQWTon4M"
    },
    {
      "cell_type": "markdown",
      "metadata": {
        "id": "6260bc70"
      },
      "source": [
        "#### The time complexity:\n",
        "According to the heuristic, A* has a time complexity of exponentially increasing for an unbounded search space. In the worst case of an unbounded search space, the number of nodes expanded in the shortest path is exponential.<br>\n",
        "so the time complexity = O(b^d) where b is the branching factor (the average number of successors per state). It is the number of children at each node that determines the branching factor and d is the depth of the goal node."
      ],
      "id": "6260bc70"
    },
    {
      "cell_type": "markdown",
      "metadata": {
        "id": "XIDS5cA8pMl-"
      },
      "source": [
        "<h3 dir=rtl> التعقيد </h3>\n",
        "<p dir=rtl> وفقًا للإرشاد ، فإن A * لديه تعقيد زمني يتزايد بشكل أسي لمساحة بحث غير محدودة. في أسوأ حالة لمساحة البحث غير المحدودة ، يكون عدد العقد الموسعة في أقصر مسار أسيًا.<br>\n",
        "لذا فإن التعقيد الزمني = O (b ^ d) حيث b هو عامل التفرع (متوسط عدد الأبناء لكل فرع). إن عدد الأبناء في كل عقدة هو الذي يحدد عامل التفرع و d هو عمق العقدة الهدف. </p>"
      ],
      "id": "XIDS5cA8pMl-"
    },
    {
      "cell_type": "markdown",
      "metadata": {
        "id": "55a5bb95"
      },
      "source": [
        "#### The heuristic function:\n",
        "A good heuristic allows A* to remove many nodes that an uninformed search would find and expand; this has a major effect on the practical performance of our search."
      ],
      "id": "55a5bb95"
    },
    {
      "cell_type": "markdown",
      "metadata": {
        "id": "GbkNhF-BqF1Y"
      },
      "source": [
        "<h3 dir=rtl> الدالة الارشادية </h3>\n",
        "<p dir=rtl> يسمح الاستدلال الجيد A * بإزالة العديد من العقد    هذا له تأثير كبير على الأداء العملي لبحثنا.</p>"
      ],
      "id": "GbkNhF-BqF1Y"
    },
    {
      "cell_type": "markdown",
      "metadata": {
        "id": "790ce30c"
      },
      "source": [
        "#### Completeness:\n",
        "completeness means that if at least one solution exists then the algorithm is guaranteed find a solution in a finite amount of time.<br>\n",
        "The A* algorithm is guaranteed to complete on a finite graph if the edge weights are not zero, meaning that there will always be a solution (a path from start to goal) if one exists."
      ],
      "id": "790ce30c"
    },
    {
      "cell_type": "markdown",
      "metadata": {
        "id": "oFMNiRbhqmft"
      },
      "source": [
        "<h3 dir=rtl> الإكتمال </h3>\n",
        "<p dir=rtl> يعني الاكتمال أنه في حالة وجود حل واحد على الأقل ، فإن الخوارزمية مضمونة لإيجاد حل في فترة زمنية محدودة.</p>\n",
        "<p dir=rtl> الخوارزمية A * مضمونة لإكمالها على رسم بياني محدود إذا لم تكن أوزان الحواف صفرية ، مما يعني أنه سيكون هناك دائمًا حل (مسار من البداية إلى الهدف) إذا كان موجودًا</p>"
      ],
      "id": "oFMNiRbhqmft"
    },
    {
      "cell_type": "markdown",
      "metadata": {
        "id": "96fc87ab"
      },
      "source": [
        "#### Application:\n",
        "Pathfinding is a common problem in applications such as video games. However, A* was initially designed to solve the general graph traversal problem.<br>\n",
        "we will apply A* on 2D game and we will explain everything in the next section. "
      ],
      "id": "96fc87ab"
    },
    {
      "cell_type": "markdown",
      "metadata": {
        "id": "WULo1nh-q6a1"
      },
      "source": [
        "<h3 dir=rtl> التطبيق </h3>\n",
        "<p dir=rtl> يعد Pathfinding مشكلة شائعة في تطبيقات مثل ألعاب الفيديو. ومع ذلك ، تم تصميم A * في البداية لحل مشكلة اجتياز الرسم البياني العامة.</p>\n",
        "<p dir=rtl> سنطبق A * على لعبة ثنائية الأبعاد وسنشرح كل شيء في القسم التالي.</p>"
      ],
      "id": "WULo1nh-q6a1"
    },
    {
      "cell_type": "markdown",
      "metadata": {
        "id": "0572a4f6"
      },
      "source": [
        "#### Pseudocode:\n",
        "<img src=\"https://i.stack.imgur.com/8nAs8.png\" width=800 height=800/><br><br>"
      ],
      "id": "0572a4f6"
    },
    {
      "cell_type": "markdown",
      "metadata": {
        "id": "ed6f4b3a"
      },
      "source": [
        "### Implementation:"
      ],
      "id": "ed6f4b3a"
    },
    {
      "cell_type": "markdown",
      "metadata": {
        "id": "ce022819"
      },
      "source": [
        "#### Node class:\n",
        "In our problem we are using the maze as a map and we decied to make each position in this map as a node"
      ],
      "id": "ce022819"
    },
    {
      "cell_type": "markdown",
      "metadata": {
        "id": "EfBIY995rV_Y"
      },
      "source": [
        "<p dir=rtl> في مشكلتنا ، نستخدم المتاهة كخريطة وقررنا أن نجعل كل موضع في هذه الخريطة بمثابة عقدة</p>"
      ],
      "id": "EfBIY995rV_Y"
    },
    {
      "cell_type": "code",
      "metadata": {
        "id": "144d9367"
      },
      "source": [
        "class Node():\n",
        "    \"\"\"A node class each position in the maze is considerd as a node\"\"\"\n",
        "\n",
        "    def __init__(self, parent=None, position=None):\n",
        "        self.parent = parent\n",
        "        self.position = position\n",
        "\n",
        "        self.g = 0\n",
        "        self.h = 0\n",
        "        self.f = 0\n",
        "\n",
        "    def __eq__(self, other):\n",
        "        return self.position == other.position"
      ],
      "id": "144d9367",
      "execution_count": null,
      "outputs": []
    },
    {
      "cell_type": "markdown",
      "metadata": {
        "id": "ea9b448b"
      },
      "source": [
        "#### The A* implementaion:\n",
        "we implement the algorithem as a method and we will describe it following the Pseudocode in the cells below:"
      ],
      "id": "ea9b448b"
    },
    {
      "cell_type": "markdown",
      "metadata": {
        "id": "zcq3REkVru10"
      },
      "source": [
        "<p dir=rtl> ننفذ الخوارزمية كدالة وسنصفها باتباع السودوكود في الخلايا أدناه:</p>"
      ],
      "id": "zcq3REkVru10"
    },
    {
      "cell_type": "markdown",
      "metadata": {
        "id": "176b5598"
      },
      "source": [
        "- In this part we are prepare the maze and the players objects to give the A* algorithem the needed inputs and check if the heuristic is valid:"
      ],
      "id": "176b5598"
    },
    {
      "cell_type": "markdown",
      "metadata": {
        "id": "mva6Z5BcsDwN"
      },
      "source": [
        "<p dir=rtl> - في هذا الجزء نقوم بإعداد المتاهة واللاعبين\n",
        "لإعطاء A * algorithem المدخلات المطلوبة والتحقق مما إذا كانت الدالة الإرشادية  صالحه:</p>\n",
        "<p dir=rtl></p>"
      ],
      "id": "mva6Z5BcsDwN"
    },
    {
      "cell_type": "code",
      "metadata": {
        "id": "8e5e7ad4"
      },
      "source": [
        "def astar(maze, knight, enemy, heuristic):\n",
        "    \"\"\"Returns the path to the enemy, # of positions visited, and the positions visited\"\"\"\n",
        "    if(heuristic != \"manhattan\" and heuristic != \"euclidean\"):\n",
        "        return \"Please use a valid heuristic function (euclidean or manhattan)\"\n",
        "    # Create knight and enemy node\n",
        "    knight_node = Node(None, knight)\n",
        "    knight_node.g = knight_node.h = knight_node.f = 0\n",
        "    enemy_node = Node(None, enemy)\n",
        "    enemy_node.g = enemy_node.h = enemy_node.f = 0\n",
        "\n",
        "    # open list(not visited) closed list(visited)\n",
        "    open_list = []\n",
        "    closed_list = []\n",
        "\n",
        "    # Add the knight node\n",
        "    open_list.append(knight_node)"
      ],
      "id": "8e5e7ad4",
      "execution_count": null,
      "outputs": []
    },
    {
      "cell_type": "markdown",
      "metadata": {
        "id": "ffd3b3d4"
      },
      "source": [
        "-  In this step the A* algorithem starts:<br>\n",
        "    so we will use the while loop until we visit all the nodes or find the goal.<br>\n",
        "- Note that there are some for loops and if conditions in the while loop we will explain it in the next cells."
      ],
      "id": "ffd3b3d4"
    },
    {
      "cell_type": "markdown",
      "metadata": {
        "id": "3hJnSp7hzd50"
      },
      "source": [
        "<p dir=rtl> في هذه الخطوة تبدأ خوارزمية ال A * algorithem </p>\n",
        "<p dir=rtl> لذلك سنستخدم حلقة while حتى نزور جميع العقد أو نعثر على الهدف. </p>\n",
        "<p dir=rtl> لاحظ أن هناك بعض حلقات for و if في حلقة while. </p>\n",
        "<p dir=rtl> سنشرح ذلك في الخلايا التالية. </p>\n"
      ],
      "id": "3hJnSp7hzd50"
    },
    {
      "cell_type": "code",
      "metadata": {
        "id": "7e90d376"
      },
      "source": [
        " # A* starts here\n",
        "    while len(open_list) > 0:\n",
        "\n",
        "        # Get the current node\n",
        "        current_node = open_list[0]\n",
        "        current_index = 0\n",
        "        \n",
        "        #search for the node with the lowest f value\n",
        "        for index, item in enumerate(open_list):\n",
        "            if item.f < current_node.f:\n",
        "                current_node = item\n",
        "                current_index = index\n",
        "\n",
        "        # Pop the node with the lowest f value from the open list, then add it to closed list\n",
        "        open_list.pop(current_index)\n",
        "        closed_list.append(current_node)\n",
        "\n",
        "        # Found the enemy\n",
        "        if current_node == enemy_node:\n",
        "            path = []\n",
        "            visited = []\n",
        "            current = current_node\n",
        "            while current is not None:\n",
        "                path.append(current.position)\n",
        "                current = current.parent\n",
        "            for node in closed_list:\n",
        "                visited.append(node.position)\n",
        "            return 'Path' + str(path[::-1]) + '\\nUsing '+ heuristic + ' we have visited ' + str(len(closed_list)) + ' positions\\nVisited nodes are ' + str(visited) # Return reversed path\n",
        "\n",
        "        # Find the adjacents of the current node \n",
        "        children = []\n",
        "        for new_position in [(0, -1), (0, 1), (-1, 0), (1, 0), (-1, -1), (-1, 1), (1, -1), (1, 1)]: # Adjacent squares\n",
        "\n",
        "            # Get adjacent position\n",
        "            node_position = (current_node.position[0] + new_position[0], current_node.position[1] + new_position[1])\n",
        "\n",
        "            # Make sure it is inside the maze\n",
        "            if node_position[0] > (len(maze) - 1) or node_position[0] < 0 or node_position[1] > (len(maze[len(maze)-1]) -1) or node_position[1] < 0:\n",
        "                continue\n",
        "\n",
        "            # Make that it is not an obstacle\n",
        "            if maze[node_position[0]][node_position[1]] != 0:\n",
        "                continue\n",
        "\n",
        "            # Create new node for the adjacent position\n",
        "            new_node = Node(current_node, node_position)\n",
        "\n",
        "            # add it to current node children\n",
        "            children.append(new_node)\n",
        "\n",
        "        # Loop through children\n",
        "        for child in children:\n",
        "\n",
        "            # Child is visited ?\n",
        "            if len([closed_child for closed_child in closed_list if closed_child == child]) > 0:\n",
        "                continue\n",
        "    \n",
        "            # Create the f, g, and h values\n",
        "            child.g = current_node.g + 1\n",
        "            if heuristic == \"euclidean\":\n",
        "                child.h = ((child.position[0] - enemy_node.position[0]) ** 2) + ((child.position[1] - enemy_node.position[1]) ** 2)\n",
        "            elif heuristic == \"manhattan\":\n",
        "                child.h = child.h = abs(child.position[0] - enemy_node.position[0]) + abs(child.position[1] - enemy_node.position[1])\n",
        "            child.f = child.g + child.h\n",
        "\n",
        "            # Child visited but not discoverd ?\n",
        "            if len([open_node for open_node in open_list if child.position == open_node.position and child.g > open_node.g]) > 0:\n",
        "                continue\n",
        "\n",
        "            # Add the child to the open list\n",
        "            open_list.append(child)"
      ],
      "id": "7e90d376",
      "execution_count": null,
      "outputs": []
    },
    {
      "cell_type": "markdown",
      "metadata": {
        "id": "f998f5d9"
      },
      "source": [
        "While loop (first for loop):<br>\n",
        "the main goal of this for loop is to find the node with the lowest value.<br>\n",
        "after we find the lowest value node we will pop it out form the open list to the closed list."
      ],
      "id": "f998f5d9"
    },
    {
      "cell_type": "markdown",
      "metadata": {
        "id": "0_YTKo-X0Ro6"
      },
      "source": [
        "  <p dir=rtl> اول جملة تكرار </p>\n",
        "  <p dir=rtl> الهدف الرئيسي من حلقة for هو العثور على العقدة ذات القيمة الأقل. </p>\n",
        "  <p dir=rtl> بعد أن نجد العقدة الأقل قيمة سنخرجها من القائمة المفتوحة إلى القائمة المغلقة. </p>\n",
        "\n",
        "  "
      ],
      "id": "0_YTKo-X0Ro6"
    },
    {
      "cell_type": "code",
      "metadata": {
        "id": "17eb20cc"
      },
      "source": [
        "#search for the node with the lowest f value\n",
        "        for index, item in enumerate(open_list):\n",
        "            if item.f < current_node.f:\n",
        "                current_node = item\n",
        "                current_index = index\n",
        "                \n",
        "        # Pop the node with the lowest f value from the open list, then add it to closed list\n",
        "        open_list.pop(current_index)\n",
        "        closed_list.append(current_node)"
      ],
      "id": "17eb20cc",
      "execution_count": null,
      "outputs": []
    },
    {
      "cell_type": "markdown",
      "metadata": {
        "id": "25ab003e"
      },
      "source": [
        "While loop (fisrt if statment):<br>\n",
        "in this part we will try to find the enemy (the goel)."
      ],
      "id": "25ab003e"
    },
    {
      "cell_type": "markdown",
      "metadata": {
        "id": "m9rhbxtN0p7C"
      },
      "source": [
        "<p dir=rtl> اول جملة شرطية </p>\n",
        "<p dir=rtl> في هذا الجزء سنحاول ايجاد العدو (الهدف) </p>"
      ],
      "id": "m9rhbxtN0p7C"
    },
    {
      "cell_type": "code",
      "metadata": {
        "id": "3be1f855"
      },
      "source": [
        "# Found the enemy\n",
        "        if current_node == enemy_node:\n",
        "            path = []\n",
        "            visited = []\n",
        "            current = current_node\n",
        "            while current is not None:\n",
        "                path.append(current.position)\n",
        "                current = current.parent\n",
        "            for node in closed_list:\n",
        "                visited.append(node.position)\n",
        "            return 'Path' + str(path[::-1]) + '\\nUsing '+ heuristic + ' we have visited ' + str(len(closed_list)) + ' positions\\nVisited nodes are ' + str(visited) # Return reversed path"
      ],
      "id": "3be1f855",
      "execution_count": null,
      "outputs": []
    },
    {
      "cell_type": "markdown",
      "metadata": {
        "id": "f8735487"
      },
      "source": [
        "While loop (second for loop):<br>\n",
        "in this step we will search and find every adjacents of the current node."
      ],
      "id": "f8735487"
    },
    {
      "cell_type": "markdown",
      "metadata": {
        "id": "ylwamAdS03j3"
      },
      "source": [
        "<p dir=rtl> ثاني جملة تكرارية </p>\n",
        "<p dir=rtl> في هذه الخطوة سنبحث ونعثر على كل المتجاورات للعقدة الحالية. </p>"
      ],
      "id": "ylwamAdS03j3"
    },
    {
      "cell_type": "code",
      "metadata": {
        "id": "88d4190c"
      },
      "source": [
        "# Find the adjacents of the current node \n",
        "        children = []\n",
        "        for new_position in [(0, -1), (0, 1), (-1, 0), (1, 0), (-1, -1), (-1, 1), (1, -1), (1, 1)]: # Adjacent squares\n",
        "\n",
        "            # Get adjacent position\n",
        "            node_position = (current_node.position[0] + new_position[0], current_node.position[1] + new_position[1])\n",
        "\n",
        "            # Make sure it is inside the maze\n",
        "            if node_position[0] > (len(maze) - 1) or node_position[0] < 0 or node_position[1] > (len(maze[len(maze)-1]) -1) or node_position[1] < 0:\n",
        "                continue\n",
        "\n",
        "            # Make that it is not an obstacle\n",
        "            if maze[node_position[0]][node_position[1]] != 0:\n",
        "                continue\n",
        "\n",
        "            # Create new node for the adjacent position\n",
        "            new_node = Node(current_node, node_position)\n",
        "\n",
        "            # add it to current node children\n",
        "            children.append(new_node)"
      ],
      "id": "88d4190c",
      "execution_count": null,
      "outputs": []
    },
    {
      "cell_type": "markdown",
      "metadata": {
        "id": "6a9887aa"
      },
      "source": [
        "While loop (third for loop):<br>\n",
        "in the final step we will go through the children or adjacents and we will check if it's visited or not ,discoverd or not."
      ],
      "id": "6a9887aa"
    },
    {
      "cell_type": "markdown",
      "metadata": {
        "id": "eJLI-LKi1DTA"
      },
      "source": [
        "<p dir=rtl> ثالث جملة تكرارية </p>\n",
        "<p dir=rtl> في الخطوة الأخيرة ، سنمر بالأبناء أو المجاورين وسنتحقق مما إذا كان قد تمت زيارته أم لا ، أو تم اكتشافه أم لا. </p>"
      ],
      "id": "eJLI-LKi1DTA"
    },
    {
      "cell_type": "code",
      "metadata": {
        "id": "6636bdf5"
      },
      "source": [
        "# Loop through children\n",
        "        for child in children:\n",
        "\n",
        "            # Child is visited ?\n",
        "            if len([closed_child for closed_child in closed_list if closed_child == child]) > 0:\n",
        "                continue\n",
        "    \n",
        "            # Create the f, g, and h values\n",
        "            child.g = current_node.g + 1\n",
        "            if heuristic == \"euclidean\":\n",
        "                child.h = ((child.position[0] - enemy_node.position[0]) ** 2) + ((child.position[1] - enemy_node.position[1]) ** 2)\n",
        "            elif heuristic == \"manhattan\":\n",
        "                child.h = child.h = abs(child.position[0] - enemy_node.position[0]) + abs(child.position[1] - enemy_node.position[1])\n",
        "            child.f = child.g + child.h\n",
        "\n",
        "            # Child visited but not discoverd ?\n",
        "            if len([open_node for open_node in open_list if child.position == open_node.position and child.g > open_node.g]) > 0:\n",
        "                continue\n",
        "\n",
        "            # Add the child to the open list\n",
        "            open_list.append(child)"
      ],
      "id": "6636bdf5",
      "execution_count": null,
      "outputs": []
    },
    {
      "cell_type": "markdown",
      "metadata": {
        "id": "ac8eeff0"
      },
      "source": [
        "## Applying the algorithm on the problem:\n",
        "Here we will combine all the code together , build the maze and testing it."
      ],
      "id": "ac8eeff0"
    },
    {
      "cell_type": "markdown",
      "metadata": {
        "id": "WkBCDsin8agS"
      },
      "source": [
        "<p dir=rtl> هنا سنجمع كل الكود معًا ، ونبني المتاهة ونختبرها. </p>"
      ],
      "id": "WkBCDsin8agS"
    },
    {
      "cell_type": "markdown",
      "metadata": {
        "id": "9ad44aa3"
      },
      "source": [
        "### The Executable code:"
      ],
      "id": "9ad44aa3"
    },
    {
      "cell_type": "code",
      "metadata": {
        "id": "5ee58693"
      },
      "source": [
        "class Node():\n",
        "    \"\"\"A node class each position in the maze is considerd as a node\"\"\"\n",
        "\n",
        "    def __init__(self, parent=None, position=None):\n",
        "        self.parent = parent\n",
        "        self.position = position\n",
        "\n",
        "        self.g = 0\n",
        "        self.h = 0\n",
        "        self.f = 0\n",
        "\n",
        "    def __eq__(self, other):\n",
        "        return self.position == other.position"
      ],
      "id": "5ee58693",
      "execution_count": null,
      "outputs": []
    },
    {
      "cell_type": "code",
      "metadata": {
        "id": "8b5b4745"
      },
      "source": [
        "def astar(maze, knight, enemy, heuristic):\n",
        "    \"\"\"Returns the path to the enemy, # of positions visited, and the positions visited\"\"\"\n",
        "    if(heuristic != \"manhattan\" and heuristic != \"euclidean\"):\n",
        "        return \"Please use a valid heuristic function (euclidean or manhattan)\"\n",
        "    # Create knight and enemy node\n",
        "    knight_node = Node(None, knight)\n",
        "    knight_node.g = knight_node.h = knight_node.f = 0\n",
        "    enemy_node = Node(None, enemy)\n",
        "    enemy_node.g = enemy_node.h = enemy_node.f = 0\n",
        "\n",
        "    # open list(not visited) closed list(visited)\n",
        "    open_list = []\n",
        "    closed_list = []\n",
        "\n",
        "    # Add the knight node\n",
        "    open_list.append(knight_node)\n",
        "\n",
        "    # A* starts here\n",
        "    while len(open_list) > 0:\n",
        "\n",
        "        # Get the current node\n",
        "        current_node = open_list[0]\n",
        "        current_index = 0\n",
        "        \n",
        "        #search for the node with the lowest f value\n",
        "        for index, item in enumerate(open_list):\n",
        "            if item.f < current_node.f:\n",
        "                current_node = item\n",
        "                current_index = index\n",
        "\n",
        "        # Pop the node with the lowest f value from the open list, then add it to closed list\n",
        "        open_list.pop(current_index)\n",
        "        closed_list.append(current_node)\n",
        "\n",
        "        # Found the enemy\n",
        "        if current_node == enemy_node:\n",
        "            path = []\n",
        "            visited = []\n",
        "            current = current_node\n",
        "            while current is not None:\n",
        "                path.append(current.position)\n",
        "                current = current.parent\n",
        "            for node in closed_list:\n",
        "                visited.append(node.position)\n",
        "            return 'Path' + str(path[::-1]) + '\\nUsing '+ heuristic + ' we have visited ' + str(len(closed_list)) + ' positions\\nVisited nodes are ' + str(visited) # Return reversed path\n",
        "\n",
        "        # Find the adjacents of the current node \n",
        "        children = []\n",
        "        for new_position in [(0, -1), (0, 1), (-1, 0), (1, 0), (-1, -1), (-1, 1), (1, -1), (1, 1)]: # Adjacent squares\n",
        "\n",
        "            # Get adjacent position\n",
        "            node_position = (current_node.position[0] + new_position[0], current_node.position[1] + new_position[1])\n",
        "\n",
        "            # Make sure it is inside the maze\n",
        "            if node_position[0] > (len(maze) - 1) or node_position[0] < 0 or node_position[1] > (len(maze[len(maze)-1]) -1) or node_position[1] < 0:\n",
        "                continue\n",
        "\n",
        "            # Make that it is not an obstacle\n",
        "            if maze[node_position[0]][node_position[1]] != 0:\n",
        "                continue\n",
        "\n",
        "            # Create new node for the adjacent position\n",
        "            new_node = Node(current_node, node_position)\n",
        "\n",
        "            # add it to current node children\n",
        "            children.append(new_node)\n",
        "\n",
        "        # Loop through children\n",
        "        for child in children:\n",
        "\n",
        "            # Child is visited ?\n",
        "            if len([closed_child for closed_child in closed_list if closed_child == child]) > 0:\n",
        "                continue\n",
        "    \n",
        "            # Create the f, g, and h values\n",
        "            child.g = current_node.g + 1\n",
        "            if heuristic == \"euclidean\":\n",
        "                child.h = ((child.position[0] - enemy_node.position[0]) ** 2) + ((child.position[1] - enemy_node.position[1]) ** 2)\n",
        "            elif heuristic == \"manhattan\":\n",
        "                child.h = child.h = abs(child.position[0] - enemy_node.position[0]) + abs(child.position[1] - enemy_node.position[1])\n",
        "            child.f = child.g + child.h\n",
        "\n",
        "            # Child visited but not discoverd ?\n",
        "            if len([open_node for open_node in open_list if child.position == open_node.position and child.g > open_node.g]) > 0:\n",
        "                continue\n",
        "\n",
        "            # Add the child to the open list\n",
        "            open_list.append(child)"
      ],
      "id": "8b5b4745",
      "execution_count": null,
      "outputs": []
    },
    {
      "cell_type": "markdown",
      "metadata": {
        "id": "e0978534"
      },
      "source": [
        "### Testing"
      ],
      "id": "e0978534"
    },
    {
      "cell_type": "markdown",
      "metadata": {
        "id": "379fbb34"
      },
      "source": [
        "### the maze\n",
        "the maze is a list so it's changable.<br>\n",
        "every 0 in the maze contain a free space for the player to visit.<br>\n",
        "every 1 in the maze contain a hole or a wall so the player can't visit.<br>\n",
        "<br><br>\n",
        "\n",
        "<img src=\"https://drive.google.com/uc?id=1bFVbwJFf5U_lOzx-Oex5_XgSxN7tsFda\" width=400 height=400/><br><br>\n",
        "\n",
        "The goal state in the maze will look like this:<br><br>\n",
        "<img src=\"https://drive.google.com/uc?id=1eS9Kuf0GJca2qfegqSDjNi3q3upze-4I\" width=400 height=400/><br><br>\n",
        "\n",
        "in this example below:<br>\n",
        "the knight initial state is at point = (0,0).<br>\n",
        "the goal is at point = (7,6).<br><br>\n",
        "<img src=\"https://drive.google.com/uc?id=1CoDN7FyWKopOo9QwBO-6R0l60rneGRTH\" width=400 height=400/><br><br>\n",
        "\n",
        "\n",
        "\n",
        "Note: it's changable."
      ],
      "id": "379fbb34"
    },
    {
      "cell_type": "markdown",
      "metadata": {
        "id": "RmmZEIHrzUX9"
      },
      "source": [
        "<h3 dir=rtl>الإختبار</h3>"
      ],
      "id": "RmmZEIHrzUX9"
    },
    {
      "cell_type": "markdown",
      "metadata": {
        "id": "8vXvsQebzXb7"
      },
      "source": [
        "<h3 dir=rtl>المتاهة</h3>\n",
        "<p dir=rtl>\n",
        "المتاهة عبارة عن قائمة لذا فهي قابلة للتغيير.<br>\n",
        "كل 0 في المتاهة يحتوي على مساحة خالية يمكن للاعب زيارتها.<br>\n",
        "كل 1 في المتاهة يحتوي على حفرة أو جدار لا يمكن لللاعب زيارتها.<br>\n",
        "</p><br>\n",
        "<p dir=rtl>\n",
        "في المثال أعلاه:<br>\n",
        "الحالة المبدأية للفارس هي في النقطة = (0,0).<br>\n",
        "الهدف في النقطة = (7,6).<br>\n",
        "</p>\n",
        "<p dir=rtl>\n",
        "ملاحظة: قابلة للتغيير.\n",
        "</p> "
      ],
      "id": "8vXvsQebzXb7"
    },
    {
      "cell_type": "markdown",
      "metadata": {
        "id": "eefd9df6"
      },
      "source": [
        "**The used huristic is \" MANHATTAN \"**."
      ],
      "id": "eefd9df6"
    },
    {
      "cell_type": "code",
      "metadata": {
        "colab": {
          "base_uri": "https://localhost:8080/"
        },
        "id": "5f7eeb82",
        "outputId": "9631f713-d129-40ed-86db-79ac9103a157"
      },
      "source": [
        "maze = [[0, 0, 1, 0, 1, 0, 0, 0, 0, 0],\n",
        "        [0, 0, 1, 0, 1, 0, 0, 0, 0, 0],\n",
        "        [0, 0, 1, 0, 1, 0, 0, 0, 0, 0],\n",
        "        [0, 0, 1, 1, 1, 0, 0, 0, 0, 0],\n",
        "        [0, 0, 1, 0, 0, 0, 1, 1, 1, 0],\n",
        "        [0, 0, 1, 0, 1, 0, 0, 0, 0, 0],\n",
        "        [0, 0, 1, 0, 1, 0, 0, 0, 0, 0],\n",
        "        [0, 0, 0, 0, 1, 0, 0, 0, 0, 0],\n",
        "        [1, 1, 1, 0, 1, 0, 0, 0, 0, 0],\n",
        "        [0, 0, 1, 0, 0, 0, 0, 0, 0, 0]]\n",
        "\n",
        "knight = (0, 0)\n",
        "enemy  = (7, 6)\n",
        "\n",
        "path = astar(maze, knight, enemy, \"manhattan\")\n",
        "print(path)"
      ],
      "id": "5f7eeb82",
      "execution_count": null,
      "outputs": [
        {
          "output_type": "stream",
          "name": "stdout",
          "text": [
            "Path[(0, 0), (1, 1), (2, 1), (3, 1), (4, 1), (5, 1), (6, 1), (7, 2), (8, 3), (9, 4), (8, 5), (7, 6)]\n",
            "Using manhattan we have visited 23 positions\n",
            "Visited nodes are [(0, 0), (1, 1), (2, 1), (3, 1), (4, 1), (5, 1), (6, 1), (7, 2), (7, 3), (7, 1), (6, 3), (8, 3), (0, 1), (1, 0), (2, 0), (3, 0), (4, 0), (5, 0), (6, 0), (7, 0), (9, 4), (8, 5), (7, 6)]\n"
          ]
        }
      ]
    },
    {
      "cell_type": "markdown",
      "metadata": {
        "id": "ae5c2c4b"
      },
      "source": [
        "**The final result of the game using Manhattan huristic function:**"
      ],
      "id": "ae5c2c4b"
    },
    {
      "cell_type": "code",
      "metadata": {
        "colab": {
          "base_uri": "https://localhost:8080/",
          "height": 336
        },
        "id": "af05586f",
        "outputId": "55dad49a-da08-4425-cc62-4a851e6f256c"
      },
      "source": [
        "from IPython.display import HTML\n",
        "HTML('<iframe width=\"560\" height=\"315\" src=\"https://www.youtube.com/embed/GsnJWaJzoVw\" title=\"YouTube video player\" frameborder=\"0\" allow=\"accelerometer; autoplay; clipboard-write; encrypted-media; gyroscope; picture-in-picture\" allowfullscreen></iframe>')\n"
      ],
      "id": "af05586f",
      "execution_count": null,
      "outputs": [
        {
          "output_type": "execute_result",
          "data": {
            "text/html": [
              "<iframe width=\"560\" height=\"315\" src=\"https://www.youtube.com/embed/GsnJWaJzoVw\" title=\"YouTube video player\" frameborder=\"0\" allow=\"accelerometer; autoplay; clipboard-write; encrypted-media; gyroscope; picture-in-picture\" allowfullscreen></iframe>"
            ],
            "text/plain": [
              "<IPython.core.display.HTML object>"
            ]
          },
          "metadata": {},
          "execution_count": 21
        }
      ]
    },
    {
      "cell_type": "markdown",
      "metadata": {
        "id": "d6a7a598"
      },
      "source": [
        "**The used huristic is \"EUCLIDEAN\"**"
      ],
      "id": "d6a7a598"
    },
    {
      "cell_type": "code",
      "metadata": {
        "colab": {
          "base_uri": "https://localhost:8080/"
        },
        "id": "7e591d0a",
        "outputId": "ad9636cb-22ff-4da5-b1af-dbb5dde22fc8"
      },
      "source": [
        "maze = [[0, 0, 1, 0, 1, 0, 0, 0, 0, 0],\n",
        "        [0, 0, 1, 0, 1, 0, 0, 0, 0, 0],\n",
        "        [0, 0, 1, 0, 1, 0, 0, 0, 0, 0],\n",
        "        [0, 0, 1, 1, 1, 0, 0, 0, 0, 0],\n",
        "        [0, 0, 1, 0, 0, 0, 1, 1, 1, 0],\n",
        "        [0, 0, 1, 0, 1, 0, 0, 0, 0, 0],\n",
        "        [0, 0, 1, 0, 1, 0, 0, 0, 0, 0],\n",
        "        [0, 0, 0, 0, 1, 0, 0, 0, 0, 0],\n",
        "        [1, 1, 1, 0, 1, 0, 0, 0, 0, 0],\n",
        "        [0, 0, 1, 0, 0, 0, 0, 0, 0, 0]]\n",
        "\n",
        "knight = (0, 0)\n",
        "enemy  = (7, 6)\n",
        "\n",
        "path = astar(maze, knight, enemy, \"euclidean\")\n",
        "print(path)"
      ],
      "id": "7e591d0a",
      "execution_count": null,
      "outputs": [
        {
          "output_type": "stream",
          "name": "stdout",
          "text": [
            "Path[(0, 0), (1, 1), (2, 1), (3, 1), (4, 1), (5, 1), (6, 1), (7, 2), (8, 3), (9, 4), (8, 5), (7, 6)]\n",
            "Using euclidean we have visited 14 positions\n",
            "Visited nodes are [(0, 0), (1, 1), (2, 1), (3, 1), (4, 1), (5, 1), (6, 1), (7, 2), (7, 3), (6, 3), (8, 3), (9, 4), (8, 5), (7, 6)]\n"
          ]
        }
      ]
    },
    {
      "cell_type": "markdown",
      "metadata": {
        "id": "8606c89c"
      },
      "source": [
        "**The final result of the game using Euclidean huristic function:**"
      ],
      "id": "8606c89c"
    },
    {
      "cell_type": "code",
      "metadata": {
        "colab": {
          "base_uri": "https://localhost:8080/",
          "height": 336
        },
        "id": "c1fe7692",
        "outputId": "d97dd8bb-0887-47c4-e97c-4f399ccb04e5"
      },
      "source": [
        "from IPython.display import HTML\n",
        "HTML('<iframe width=\"560\" height=\"315\" src=\"https://www.youtube.com/embed/AbEYhgHJxjg\" title=\"YouTube video player\" frameborder=\"0\" allow=\"accelerometer; autoplay; clipboard-write; encrypted-media; gyroscope; picture-in-picture\" allowfullscreen></iframe>')"
      ],
      "id": "c1fe7692",
      "execution_count": null,
      "outputs": [
        {
          "output_type": "execute_result",
          "data": {
            "text/html": [
              "<iframe width=\"560\" height=\"315\" src=\"https://www.youtube.com/embed/AbEYhgHJxjg\" title=\"YouTube video player\" frameborder=\"0\" allow=\"accelerometer; autoplay; clipboard-write; encrypted-media; gyroscope; picture-in-picture\" allowfullscreen></iframe>"
            ],
            "text/plain": [
              "<IPython.core.display.HTML object>"
            ]
          },
          "metadata": {},
          "execution_count": 22
        }
      ]
    },
    {
      "cell_type": "markdown",
      "metadata": {
        "id": "2f596a71"
      },
      "source": [
        "## The results:<br>\n",
        "At the end we concluded that the euclidean huristic function is better than manhattan. Since in manhattan we visited unnecessary nodes and it is not admissible."
      ],
      "id": "2f596a71"
    },
    {
      "cell_type": "markdown",
      "metadata": {
        "id": "2oK25Xxx1Xff"
      },
      "source": [
        "<h3 dir=rtl>النتيجة</h3>\n",
        "<p dir=rtl>في النهاية توصلنا إلى أن الدالة الإقليدية أفضل من مانهاتن. حيث أننا زرنا في مانهاتن عُقدًا غير ضرورية وتعتبر غير admissible.</p>"
      ],
      "id": "2oK25Xxx1Xff"
    },
    {
      "cell_type": "markdown",
      "metadata": {
        "id": "727dc24e"
      },
      "source": [
        "## References:\n",
        "\n",
        "- Artificial Intelligence: A Modern Approach, S. Russell and P. Norvig, 3rd editio\n",
        "- https://cs.stackexchange.com/questions/56176/a-graph-search-time-complexity\n",
        "- https://en.wikipedia.org/wiki/A*_search_algorithm#Admissibility\n",
        "- https://www.geeksforgeeks.org/\n",
        "- https://medium.com/"
      ],
      "id": "727dc24e"
    }
  ]
}